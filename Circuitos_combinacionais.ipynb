{
  "nbformat": 4,
  "nbformat_minor": 0,
  "metadata": {
    "colab": {
      "provenance": [],
      "authorship_tag": "ABX9TyOuqDiuQ+bKjL6+DoZniy4j",
      "include_colab_link": true
    },
    "kernelspec": {
      "name": "python3",
      "display_name": "Python 3"
    },
    "language_info": {
      "name": "python"
    }
  },
  "cells": [
    {
      "cell_type": "markdown",
      "metadata": {
        "id": "view-in-github",
        "colab_type": "text"
      },
      "source": [
        "<a href=\"https://colab.research.google.com/github/FernandoLimaFilho/Relatorios_eletronica_basica/blob/main/Circuitos_combinacionais.ipynb\" target=\"_parent\"><img src=\"https://colab.research.google.com/assets/colab-badge.svg\" alt=\"Open In Colab\"/></a>"
      ]
    },
    {
      "cell_type": "markdown",
      "source": [
        "#Tranformar um número binario em número decimal"
      ],
      "metadata": {
        "id": "xtpMKq91Lm-A"
      }
    },
    {
      "cell_type": "code",
      "execution_count": null,
      "metadata": {
        "colab": {
          "base_uri": "https://localhost:8080/"
        },
        "id": "uFkHWaD2Kgp9",
        "outputId": "71e80a77-9f5f-4a10-abc4-072ec59af9bb"
      },
      "outputs": [
        {
          "output_type": "stream",
          "name": "stdout",
          "text": [
            "Digite um número em binário: 101011\n",
            "O número em decimal é: 43\n"
          ]
        }
      ],
      "source": [
        "\"\"\"\n",
        "Entrada de dados\n",
        "\"\"\"\n",
        "numero_em_binario = input(\"Digite um número em binário: \")\n",
        "\"\"\"\n",
        "Transformação de dados\n",
        "\"\"\"\n",
        "numero_em_decimal = int(numero_em_binario, 2)\n",
        "\"\"\"\n",
        "Saída de dados\n",
        "\"\"\"\n",
        "print(\"O número em decimal é:\", numero_em_decimal)"
      ]
    },
    {
      "cell_type": "markdown",
      "source": [
        "#Tranformar um número decimal em número binário"
      ],
      "metadata": {
        "id": "x0tE173DMAKo"
      }
    },
    {
      "cell_type": "code",
      "source": [
        "\"\"\"\n",
        "Entrada de dados\n",
        "\"\"\"\n",
        "numero_em_decimal = int(input(\"Digite um número decimal: \"))\n",
        "\"\"\"\n",
        "Transformação de dados\n",
        "\"\"\"\n",
        "numero_em_binario = bin(numero_em_decimal)\n",
        "\"\"\"\n",
        "Ajuste de dados\n",
        "\"\"\"\n",
        "numero_em_binario = numero_em_binario.replace(\"0b\", \"\")\n",
        "\"\"\"\n",
        "Saída de dados\n",
        "\"\"\"\n",
        "print(\"O número em binário é:\", numero_em_binario)"
      ],
      "metadata": {
        "colab": {
          "base_uri": "https://localhost:8080/"
        },
        "id": "Zfpk8Q17LVmn",
        "outputId": "097dedbd-3d32-46ca-b620-ee1a35177d91"
      },
      "execution_count": null,
      "outputs": [
        {
          "output_type": "stream",
          "name": "stdout",
          "text": [
            "Digite um número decimal: 31\n",
            "O número em binário é: 11111\n"
          ]
        }
      ]
    }
  ]
}